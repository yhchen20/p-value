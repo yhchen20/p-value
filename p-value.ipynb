{
 "cells": [
  {
   "cell_type": "markdown",
   "metadata": {},
   "source": [
    "## What is a p-value?\n",
    "\n",
    "When we talk about p-value, you may think of a sentence like this: \"The variable X is statistical significance since the p-value is less than 0.05.\" But, do you really know what p-value is? \n",
    "\n",
    "Wikipedia defines the p-value as the probability of obtaining hypothesis test results at least as extreme as the results actually observed, under the assumption that the null hypothesis is correct. But it's not easier for a novice to understand all these terminologies, let's explain it in an easily understandable way!\n"
   ]
  },
  {
   "cell_type": "markdown",
   "metadata": {},
   "source": [
    "#### What is hypothesis test?\n",
    "\n",
    "Based on the definition, we know that a p-value is from a hypothesis test. So before explaining the meaning of the p-value, let's talk about the hypothesis test first! \n",
    "\n",
    "Imagine that your friend asks you to play the coin toss game: head at your wins, tail at his. You agree to play with him, but you want to make sure the coin is fair before the game. So you do the following tests:\n",
    "\n",
    "- First, you flip the coin twice and get two tails. As we know, for a fair coin, there is a 50% probability to be head and a 50% probability to be tail. You calculate the probability of two tails is 0.5 $\\times$ 0.5 = 0.25, which is possible.\n",
    "\n",
    "- Then, you flip the coin twice more and get another two tails. Now, the probability becomes $0.5^4$ = 0.0625. You think it's highly unlikely but still possible.\n",
    "\n",
    "- But how about if you flip the coin ten times and get nine tails? You may conclude that the coin is unfair.\n",
    "\n",
    "This is an example of a **Hypothesis Test**:\n",
    "\n",
    "You first assume the coin is fair, then you expected to see 50% heads and 50% tails, ideally. Then you toss the coin and record the probability to testify the assumption. When the probability is close to what you expected, you think the assumption is true. When the result is scarcely possible, you think the assumption is false.\n",
    "\n",
    "We can reword the example as a hypothesis test:\n",
    "\n",
    "<center>Null Hypothesis: The coin is fair\n",
    "\n",
    "<center>Alternative Hypothesis: The coin is unfair\n",
    "\n",
    "<center>Expected situation: 5 heads, 5 tails\n",
    "\n",
    "<center>Observed situation: 1 head, 9 tails"
   ]
  },
  {
   "cell_type": "markdown",
   "metadata": {},
   "source": [
    "#### p-value\n",
    "\n",
    "Now that you know what is a hypothesis test, we're ready to move on to the meaning of the p-value.\n",
    "\n",
    "Repeat, there is a 50% probability to get a head when flipping a fair coin. The following plot shows the probability of different outcomes after 10 tosses. From the plot, we can see the expected situation (5 tails) has the largest probability, the observed situation (9 tails) has very small probability. "
   ]
  },
  {
   "cell_type": "code",
   "execution_count": 1,
   "metadata": {
    "jupyter": {
     "source_hidden": true
    }
   },
   "outputs": [
    {
     "data": {
      "image/png": "[encoded data removed]",
      "text/plain": [
       "<Figure size 432x288 with 1 Axes>"
      ]
     },
     "metadata": {
      "needs_background": "light"
     },
     "output_type": "display_data"
    }
   ],
   "source": [
    "import numpy as np\n",
    "from scipy import stats\n",
    "import matplotlib.pyplot as plt\n",
    "n=10\n",
    "p=0.5\n",
    "X=np.arange(0,n+1,1)\n",
    "pList=stats.binom.pmf(X,n,p)\n",
    "plt.plot(X[:9],pList[:9],marker='o',linestyle='None')\n",
    "plt.plot(X[9:], pList[9:],marker='o',linestyle='None',c='red')\n",
    "plt.vlines(X[:9],0,pList[:9])\n",
    "plt.vlines(X[9:], 0, pList[9:], color='red')\n",
    "plt.xlabel('the number of tails for 10 tosses')\n",
    "plt.ylabel('probability')\n",
    "plt.show()"
   ]
  },
  {
   "cell_type": "markdown",
   "metadata": {},
   "source": [
    "Go back to defination of p-value, it is the probability of obtaining hypothesis test results at the observed results or worser results. In this case, p-value of the hypothesis test is the probability to obtain 9 tails or 10 tailss. I'll calculate it for you:\n",
    "<center>p-value = P(tail=9)+P(tail=10) = 0.011"
   ]
  },
  {
   "cell_type": "markdown",
   "metadata": {},
   "source": [
    "#### significance level\n",
    "\n",
    "Now you have the hypothesis test and the p-value of the test, how can you decide to reject the null hypothesis or not? \n",
    "\n",
    "In statistics, we use the significance level to help you make the decision. If the p-value is less than the significance level, you can reject the null hypothesis and accept the alternative hypothesis. If the p-value is not less than the significance level, we'll say there is no sufficient evidence to reject the null hypothesis.\n",
    "\n",
    "Usually, we'll use $\\alpha=0.05$ as the significance level. In this case, you can reject the null hypothesis at the significance level $\\alpha=0.05$ because p-value = 0.011 < 0.05, and say your friend uses an unfair coin!\n",
    "\n",
    "However, if we set the significance level as $\\alpha=0.01$, we will have no sufficient evidence to reject the null hypothesis because p-value > 0.01. Even though the situation rarely occurs, you can't say the coin is not fair.\n",
    "\n",
    "The value of significance level is subjective, which depends on specific circumstances in each case and bases on the expert's experience."
   ]
  },
  {
   "cell_type": "markdown",
   "metadata": {},
   "source": [
    "#### Conclusion\n",
    "\n",
    "In conclusion, the p-value is to determine whether we can reject the null hypothesis or not. The expected value is calculated based on the null hypothesis. So if the observed value is close to the expected value, we won't reject the null hypothesis. However, when the observed value is far away from the expected value, it's reasonable to reject the null and accept the alternative hypothesis. \n",
    "\n",
    "The significance level is a threshold that we'll reject the null hypothesis if the p-value is less than the significance level. This value is subjective, depending on the situation of each case and your own experience. Usually, we'll use a small value, like $\\alpha=0.05$, as the significance level. "
   ]
  }
 ],
 "metadata": {
  "kernelspec": {
   "display_name": "Python [conda env:563]",
   "language": "python",
   "name": "conda-env-563-py"
  },
  "language_info": {
   "codemirror_mode": {
    "name": "ipython",
    "version": 3
   },
   "file_extension": ".py",
   "mimetype": "text/x-python",
   "name": "python",
   "nbconvert_exporter": "python",
   "pygments_lexer": "ipython3",
   "version": "3.7.10"
  }
 },
 "nbformat": 4,
 "nbformat_minor": 4
}
